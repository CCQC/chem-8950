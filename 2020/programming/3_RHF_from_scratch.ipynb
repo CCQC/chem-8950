{
 "cells": [
  {
   "cell_type": "markdown",
   "metadata": {},
   "source": [
    "## RHF with manually computed integrals over s functions\n",
    "\n",
    "In this project, we will compute the RHF energy of the diatomic hydrogen molecule using a basis composed of purely s-type Gaussian orbitals. Instead of relying on Psi4 for integrals, we will compute them manually. As we learned in class, all higher angular momentum integrals can be constructed from a linear combination of integrals over s functions using recursion relations. After completing this assignment, you should have a good understanding of how electronic structure codes compute integrals; you already dealt with integrals over s-functions, so if you _were_ to implement a recursion function, you would have a fully functional integrals code.\n",
    "\n",
    "We will be attempting to mimic the integral and RHF energy outputs of the following Psi4 input file:"
   ]
  },
  {
   "cell_type": "markdown",
   "metadata": {},
   "source": [
    "```\n",
    "import psi4  \n",
    "import numpy as np  \n",
    "np.set_printoptions(linewidth=300)  \n",
    "  \n",
    "basis {  \n",
    "assign s_orb  \n",
    "[ s_orb ]  \n",
    "cartesian  \n",
    "****  \n",
    "H     0  \n",
    "S   1   1.00  \n",
    "      0.50000000000      1.0000000000  \n",
    "S   1   1.00  \n",
    "      0.40000000000      1.0000000000  \n",
    "S   1   1.00  \n",
    "      0.30000000000      1.0000000000  \n",
    "S   1   1.00  \n",
    "      0.20000000000      1.0000000000  \n",
    "****  \n",
    "}  \n",
    "  \n",
    "molecule h2 {  \n",
    "symmetry c1  \n",
    "units bohr  \n",
    "0 1  \n",
    "H 0.000000000000 0.000000000000 -0.849220457955  \n",
    "H 0.000000000000 0.000000000000  0.849220457955  \n",
    "}  \n",
    "  \n",
    "set scf_type pk          # no density fitting  \n",
    "set puream false         # cartesian basis (not spherical)  \n",
    "set e_convergence 10  \n",
    "set d_convergence 10  \n",
    "e, wfn = energy('hf', return_wfn=True)  \n",
    "  \n",
    "print(\"Hartree-Fock energy: \", e)  \n",
    "  \n",
    "mol = wfn.molecule()  \n",
    "bs = wfn.basisset()  \n",
    "basis = psi4.core.BasisSet.build(mol)  \n",
    "mints = psi4.core.MintsHelper(basis)  \n",
    "\n",
    "S = mints.ao_overlap().np  \n",
    "T = mints.ao_kinetic().np  \n",
    "V = mints.ao_potential().np  \n",
    "G = mints.ao_eri().np  \n",
    "\n",
    "#print(S)  \n",
    "#print(T)  \n",
    "#print(V)  \n",
    "#print(G)  \n",
    "```\n"
   ]
  },
  {
   "cell_type": "markdown",
   "metadata": {},
   "source": [
    "At first define a custom basis composed of 4 s-functions. They have different orbital exponents $\\alpha$, but they all are composed of a single primitive (there are no contractions here, the contraction coefficient of each is 1). We then just define the geometry in bohr, do a Hartree-Fock computation, and then load in the integrals. We do this so that we can print and visually check Psi4's integral arrays with our own later on (by uncommenting the print statements at the bottom and running `psi4 input.dat` and the command line).\n",
    "\n",
    "We will start by importing scipy and numpy. This programming project will receive point deductions if you use anything other than scipy and numpy."
   ]
  },
  {
   "cell_type": "code",
   "execution_count": 15,
   "metadata": {},
   "outputs": [],
   "source": [
    "import numpy as np\n",
    "from scipy import special, linalg\n",
    "np.set_printoptions(linewidth=200)"
   ]
  },
  {
   "cell_type": "markdown",
   "metadata": {},
   "source": [
    "Here we will construct arrays to mimic the Cartesian geometry and basis set information. We also need the charge of each atom for potential energy integrals and the nuclear repulsion energy."
   ]
  },
  {
   "cell_type": "code",
   "execution_count": 16,
   "metadata": {},
   "outputs": [],
   "source": [
    "# Create a geometry in bohr which matches our psi4 input file\n",
    "geom = np.array([[0.000000000000,0.000000000000,-0.849220457955],\n",
    "                 [0.000000000000,0.000000000000, 0.849220457955]])\n",
    "# Define charge, number of basis functions per atom, organize basis function data\n",
    "charge = np.array([1.0,1.0])\n",
    "nbf = 8\n",
    "nbf_per_atom = np.array([4,4])\n",
    "centers = np.repeat(geom, nbf_per_atom, axis=0)\n",
    "exponents = np.tile(np.array([0.5,0.4,0.3,0.2]), 2)\n"
   ]
  },
  {
   "cell_type": "code",
   "execution_count": 17,
   "metadata": {},
   "outputs": [
    {
     "name": "stdout",
     "output_type": "stream",
     "text": [
      "[[ 0.          0.         -0.84922046]\n",
      " [ 0.          0.         -0.84922046]\n",
      " [ 0.          0.         -0.84922046]\n",
      " [ 0.          0.         -0.84922046]\n",
      " [ 0.          0.          0.84922046]\n",
      " [ 0.          0.          0.84922046]\n",
      " [ 0.          0.          0.84922046]\n",
      " [ 0.          0.          0.84922046]]\n",
      "[[ 0.5]\n",
      " [ 0.4]\n",
      " [ 0.3]\n",
      " [ 0.2]\n",
      " [ 0.5]\n",
      " [ 0.4]\n",
      " [ 0.3]\n",
      " [ 0.2]]\n"
     ]
    }
   ],
   "source": [
    "print(centers)\n",
    "print(exponents.reshape(-1,1))"
   ]
  },
  {
   "cell_type": "markdown",
   "metadata": {},
   "source": [
    "We are now ready to make some functions for computing integrals. First of all, we need a function which computes normalization constants for each Gaussian."
   ]
  },
  {
   "cell_type": "code",
   "execution_count": 18,
   "metadata": {},
   "outputs": [],
   "source": [
    "def normalize(aa):\n",
    "    '''Normalization constant for s-type primitive Gaussian basis functions. Argument is orbital exponent coefficient'''\n",
    "    N = ((2 * aa) / np.pi)**(3/4)\n",
    "    return N\n"
   ]
  },
  {
   "cell_type": "markdown",
   "metadata": {},
   "source": [
    "We will also need at some point the 0th Boys Function for the electron-nuclear attraction integrals and electron repulsion integrals. Recall from the lecture notes that the 0th Boys function can be found by:\n",
    "\n",
    "\\begin{equation}\n",
    "F_0(x) = \\mathrm{erf}(\\sqrt x) \\frac{\\sqrt{\\pi}} {2 \\sqrt {x}} \n",
    "\\end{equation}\n",
    "\n",
    "However, this equation numerically blows up when $x$ is near 0, so we need to employ a Taylor expansion for small x:\n",
    "\\begin{equation}\n",
    "1 - \\frac{x}{3} + \\frac{x^2}{10} - \\frac{x^3}{42}\n",
    "\\end{equation}"
   ]
  },
  {
   "cell_type": "code",
   "execution_count": 23,
   "metadata": {},
   "outputs": [],
   "source": [
    "def boys0(x):\n",
    "    '''0th Boys Function'''\n",
    "    if x < 1e-8:\n",
    "        return 1 - x/3 + x**2/10 - x**3/42\n",
    "    else:\n",
    "        return special.erf(np.sqrt(x)) * np.sqrt(np.pi) /  (2 * np.sqrt(x))"
   ]
  },
  {
   "cell_type": "markdown",
   "metadata": {},
   "source": [
    "If you're feeling sassy, you can instead use a more general function which calls \"Kummer's confluent hypergeometric function\" $M$ (`scipy.special.hyp1f1`) using the relation\n",
    "\n",
    "\\begin{equation}\n",
    "F_n(x) = \\frac{M(n + \\frac{1}{2}, n + \\frac{3}{2}, -x)}{2n + 1}\n",
    "\\end{equation}"
   ]
  },
  {
   "cell_type": "code",
   "execution_count": 29,
   "metadata": {},
   "outputs": [
    {
     "name": "stdout",
     "output_type": "stream",
     "text": [
      "0.855624391892\n",
      "0.855624391892\n",
      "1.0\n",
      "1.0\n",
      "0.17724538509\n",
      "0.17724538509\n"
     ]
    }
   ],
   "source": [
    "def boys_general(n, x):\n",
    "    '''F_n(x) Boys Function of any order '''\n",
    "    denom = 2 * n + 1\n",
    "    num = special.hyp1f1(n+0.5,n+1.5,-x)\n",
    "    return num / denom\n",
    "\n",
    "print(boys_general(0, 0.5))\n",
    "print(boys0(0.5))\n",
    "\n",
    "print(boys_general(0, 0.0))\n",
    "print(boys0(0.0))\n",
    "\n",
    "print(boys_general(0, 25.0))\n",
    "print(boys0(25.0))"
   ]
  },
  {
   "cell_type": "markdown",
   "metadata": {},
   "source": [
    "You can also use the definition in terms of the Gamma functions in the notes. "
   ]
  },
  {
   "cell_type": "markdown",
   "metadata": {},
   "source": [
    "## Overlap Integrals\n",
    "\n",
    "The overlap integral over two _s_ functions from the lecture notes is \n",
    "\n",
    "\\begin{equation}\n",
    "(s \\mid s) = N_a N_b \\left(\\frac{\\pi}{\\alpha_a + \\alpha_b}\\right)^{3/2} \\exp \\left( \\frac{-\\alpha_a \\alpha_b (\\boldsymbol{A} - \\boldsymbol{B})^2}{\\alpha_a + \\alpha_b} \\right)\n",
    "\\end{equation}\n",
    "\n",
    "Reading off this equation, we can write a Python function which computes this as a function of the two centers and two orbital exponents."
   ]
  },
  {
   "cell_type": "code",
   "execution_count": 30,
   "metadata": {},
   "outputs": [],
   "source": [
    "def overlap(A, B, aa, bb):\n",
    "    Na = normalize(aa)\n",
    "    Nb = normalize(bb)\n",
    "    return Na * Nb * (np.pi / (aa + bb))**(3/2) * np.exp((-aa * bb * np.dot(A-B,A-B)) / (aa + bb))\n"
   ]
  },
  {
   "cell_type": "markdown",
   "metadata": {},
   "source": [
    "To construct the overlap matrix, we need to compute the overlap integral between every possible basis function with every other possible basis function. We can do this with two loops over the number of basis functions, using our `exponents` and `centers` arrays from before:"
   ]
  },
  {
   "cell_type": "code",
   "execution_count": 31,
   "metadata": {},
   "outputs": [],
   "source": [
    "def compute_overlap(exponents, centers, nbf):\n",
    "    S = np.zeros((nbf,nbf))\n",
    "    for i in range(nbf):\n",
    "        for j in range(nbf):\n",
    "            A = centers[i]\n",
    "            B = centers[j]\n",
    "            aa = exponents[i]\n",
    "            bb = exponents[j]\n",
    "            S[i,j] = overlap(A, B, aa, bb)\n",
    "    return S\n"
   ]
  },
  {
   "cell_type": "code",
   "execution_count": 22,
   "metadata": {},
   "outputs": [
    {
     "data": {
      "text/plain": [
       "array([[ 1.        ,  0.99072638,  0.9527489 ,  0.85881166,  0.48618047,  0.521857  ,  0.55472353,  0.56875481],\n",
       "       [ 0.99072638,  1.        ,  0.9846545 ,  0.91545206,  0.521857  ,  0.56161411,  0.60050475,  0.62315241],\n",
       "       [ 0.9527489 ,  0.9846545 ,  1.        ,  0.96984744,  0.55472353,  0.60050475,  0.6487517 ,  0.68606652],\n",
       "       [ 0.85881166,  0.91545206,  0.96984744,  1.        ,  0.56875481,  0.62315241,  0.68606652,  0.74940917],\n",
       "       [ 0.48618047,  0.521857  ,  0.55472353,  0.56875481,  1.        ,  0.99072638,  0.9527489 ,  0.85881166],\n",
       "       [ 0.521857  ,  0.56161411,  0.60050475,  0.62315241,  0.99072638,  1.        ,  0.9846545 ,  0.91545206],\n",
       "       [ 0.55472353,  0.60050475,  0.6487517 ,  0.68606652,  0.9527489 ,  0.9846545 ,  1.        ,  0.96984744],\n",
       "       [ 0.56875481,  0.62315241,  0.68606652,  0.74940917,  0.85881166,  0.91545206,  0.96984744,  1.        ]])"
      ]
     },
     "execution_count": 22,
     "metadata": {},
     "output_type": "execute_result"
    }
   ],
   "source": [
    "S = compute_overlap(exponents, centers, nbf)\n",
    "print(S)"
   ]
  },
  {
   "cell_type": "markdown",
   "metadata": {},
   "source": [
    "Running the above psi4 input file and printing the overlap matrix S with `print(S)` we find it is the same array as what we have just generated.\n",
    "\n",
    "\n",
    "The rest will be left for you to figure out. The lecture notes contain the formulas you need. Once you code how to compute a single kinetic integral, a single potential integral, and a single electron repulsion integral, you can write functions for constructing the entire arrays T, V, and I that we would normally load in from Psi4. Once you have this done and they appear to match Psi4, just copy and paste your RHF code.  You will need to figure out how to compute the nuclear repulsion energy on your own. Once finished, your energy should match Psi4. If it does, you pass, if it doesn't, you fail. If your code imports Psi4 anywhere, you fail."
   ]
  },
  {
   "cell_type": "code",
   "execution_count": null,
   "metadata": {},
   "outputs": [],
   "source": []
  }
 ],
 "metadata": {
  "kernelspec": {
   "display_name": "Python 3",
   "language": "python",
   "name": "python3"
  },
  "language_info": {
   "codemirror_mode": {
    "name": "ipython",
    "version": 3
   },
   "file_extension": ".py",
   "mimetype": "text/x-python",
   "name": "python",
   "nbconvert_exporter": "python",
   "pygments_lexer": "ipython3",
   "version": "3.6.7"
  }
 },
 "nbformat": 4,
 "nbformat_minor": 4
}
