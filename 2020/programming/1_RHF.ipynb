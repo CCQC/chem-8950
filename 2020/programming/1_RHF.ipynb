{
 "cells": [
  {
   "cell_type": "markdown",
   "metadata": {},
   "source": [
    "# Hartree-Fock Theory\n",
    "\n",
    "**This assignment is due on Friday, January 24 at 5PM by email.**\n",
    "\n",
    "This partial walkthrough assumes you have already familiar with the math of Hatree-Fock theory.\n",
    "\n",
    "The Hartree-Fock method is typically used to solve the time-independent Schrodinger equation for a multi-electron atom or molecule as described in the Born-Oppenheimer approximation. Since there are no known solutions for many-electron systems (hydrogenic atoms and the diatomic hydrogen cation being notable one-electron exceptions), the problem is solved numerically.\n",
    "\n",
    "## Theory\n",
    "### The Closed-Shell Hartree-Fock Energy\n",
    "The electronic energy in the MO basis\n",
    "\\begin{align}\n",
    "E_{elec}^{clscf}  = &  E_{one} \\ +\\  E_{two}   \\\\\n",
    " = &  2 \\ \\sum_i^n \\  h_{ii} \\ +\\  \\sum_{ij}^n \\  \\biggl\\{ 2(ii|jj) \\ -\\  (ij|ij) \\biggr\\} \\\\\n",
    " = &  2 \\ \\sum_i^n \\ h_{ii} \\ + \\ \\sum_{ij}^n \\  \\biggl\\{ 2J_{ij} \\ -\\  K_{ij} \\biggr\\} \\\\\n",
    " = &  \\sum_i^n \\  \\biggl( h_{ii} \\ +\\  F_{ii} \\biggr) \\\\\n",
    "\\end{align}\n",
    "\n",
    "The density matrix\n",
    "\\begin{equation}\n",
    "D_{\\mu\\nu} = \\sum_i^{\\mathrm{d.o.}} C_\\mu^i C_\\nu^i\n",
    "\\end{equation}\n",
    "\n",
    "The one-electron energy\n",
    "\\begin{align}\n",
    "E_{one} = &   2 \\ \\sum_i^n \\  h_{ii} \\\\\n",
    " = &  2 \\ \\sum_i^n \\  \\left\\{ \\sum_{ \\mu \\nu }^{AO} \\  C_{\\mu}^i C_{\\nu}^i\\ h_{ \\mu \\nu } \\right\\} \\\\\n",
    " = &  2 \\ \\sum_{ \\mu \\nu }^{AO} \\  \\left\\{ \\sum_i^n \\  C_{\\mu}^i C_{\\nu}^i  \\right\\}  h_{ \\mu \\nu } \\\\\n",
    " = &  2 \\ \\sum_{ \\mu \\nu }^{AO} \\  D_{ \\mu \\nu }   h_{ \\mu \\nu }\n",
    "\\end{align}\n",
    "\n",
    "The two-electron energy\n",
    "\\begin{align}\n",
    "E_{two} = &   \\sum_{ij}^n \\  \\biggl\\{ 2 (ii|jj) \\ -\\  (ij|ij) \\biggr\\} \\\\\n",
    " = &  \\sum_{ij}^n \\  \\Biggl[ \\sum_{ \\mu \\nu \\rho \\sigma }^{AO} \\  \\biggl\\{ 2 C_{\\mu}^i C_{\\nu}^i C_{\\rho}^j \n",
    "C_{\\sigma}^j\\ ( \\mu \\nu | \\rho \\sigma )\n",
    "\\ -\\  C_{\\mu}^i C_{\\nu}^j C_{\\rho}^i C_{\\sigma}^j\\ ( \\mu \\nu | \\rho \\sigma ) \\biggr\\}  \\Biggr]\n",
    " \\nonumber  \\\\\n",
    "   \\\\\n",
    " = &  \\sum_{ \\mu \\nu \\rho \\sigma }^{AO} \\  \\Biggl[ \\biggl\\{ \\sum_i^n \\  C_{\\mu}^i C_{\\nu}^i \\biggr\\} \n",
    "\\biggl\\{ \\sum_j^n \\  C_{\\rho}^j C_{\\sigma}^j \\biggr\\}\n",
    "   \\biggl\\{  2 ( \\mu \\nu | \\rho \\sigma ) \\ -\\  ( \\mu \\rho | \\nu \\sigma ) \\biggr\\}\n",
    "\\Biggr] \\\\\n",
    " = & \\sum_{ \\mu \\nu \\rho \\sigma }^{AO} \\  D_{ \\mu \\nu } D_{ \\rho \\sigma }\n",
    "    \\biggl\\{ 2 ( \\mu \\nu | \\rho \\sigma )\n",
    "\\ -\\  ( \\mu \\rho | \\nu \\sigma ) \\biggr\\}\n",
    "\\end{align}\n",
    "\n",
    "The electronic energy in the AO basis\n",
    "\\begin{align}\n",
    "E_{elec}^{clscf} = & \\ 2 \\ \\sum_{ \\mu \\nu }^{AO} \\  D_{ \\mu \\nu } h_{ \\mu \\nu }\n",
    "\\ +\\  \\sum_{ \\mu \\nu \\rho \\sigma }^{AO} \\  D_{ \\mu \\nu } D_{ \\rho \\sigma }  \n",
    "\\biggl\\{ 2 ( \\mu \\nu | \\rho \\sigma ) \\ -\\  ( \\mu \\rho | \\nu \\sigma ) \\biggr\\} \\nonumber \\\\\n",
    "   \\\\\n",
    " = &  \\sum_{ \\mu \\nu }^{AO} \\  D_{ \\mu \\nu }  \\Biggl[   2 h_{ \\mu \\nu }\n",
    "\\ +\\  \\sum_{ \\rho \\sigma }^{AO} \\  D_{ \\rho \\sigma } \n",
    "  \\biggl\\{ 2 ( \\mu \\nu | \\rho \\sigma ) \\ -\\  ( \\mu \\rho | \\nu \\sigma ) \\biggr\\} \\Biggr] \\\\\n",
    " = &  \\sum_{ \\mu \\nu }^{AO} \\  D_{ \\mu \\nu }   \\biggl(   h_{ \\mu \\nu } \\ +\\  F_{ \\mu \\nu } \\biggr)\n",
    "\\end{align}\n",
    "\\begin{align}\n",
    "F_{ \\mu \\nu } = \\ h_{ \\mu \\nu }\n",
    "\\ +\\  \\sum_{ \\rho \\sigma }^{AO} \\  D_{ \\rho \\sigma } \n",
    "  \\biggl\\{ 2 ( \\mu \\nu | \\rho \\sigma ) \\ -\\  ( \\mu \\rho | \\nu \\sigma ) \\biggr\\} \\Biggr]\n",
    "\\end{align}"
   ]
  },
  {
   "cell_type": "markdown",
   "metadata": {},
   "source": [
    "## Load <span style=\"font-variant: small-caps\">Psi4</span> and NumPy\n",
    "You will use Psi4 to compute integrals and NumPy to perform the linear algebra.\n",
    "\n",
    "Input options will be provided by using a separate Python file `input.py`. Sample contents:\n",
    "\n",
    "    Settings = dict()\n",
    "\n",
    "    Settings[\"basis\"] = \"STO-3G\"\n",
    "    Settings[\"molecule\"] = \"\"\"\n",
    "      0 1\n",
    "      O\n",
    "      H 1 R\n",
    "      H 1 R 2 A\n",
    "      R = 1.0\n",
    "      A = 104.5\n",
    "      symmetry c1\n",
    "    \"\"\"\n",
    "    Settings[\"nalpha\"] = 5\n",
    "    Settings[\"nbeta\"] = 5\n",
    "    Settings[\"scf_max_iter\"] = 50"
   ]
  },
  {
   "cell_type": "code",
   "execution_count": 2,
   "metadata": {
    "collapsed": false,
    "jupyter": {
     "outputs_hidden": false
    }
   },
   "outputs": [
    {
     "name": "stdout",
     "output_type": "stream",
     "text": [
      "{'basis': 'STO-3G', 'molecule': '\\n  0 1\\n  O\\n  H 1 R\\n  H 1 R 2 A\\n  R = 1.0\\n  A = 104.5\\n  symmetry c1\\n', 'nalpha': 5, 'nbeta': 5, 'scf_max_iter': 50}\n"
     ]
    }
   ],
   "source": [
    "import psi4\n",
    "import numpy as np\n",
    "from input import Settings\n",
    "\n",
    "print(Settings)\n",
    "\n",
    "np.set_printoptions(suppress=True, linewidth=120)"
   ]
  },
  {
   "cell_type": "markdown",
   "metadata": {},
   "source": [
    "## Setup your initial conditions\n",
    "- Construct a new molecule in C1 symmetry\n",
    "- Load in the basis set\n",
    "- Create a `MintsHelper` object to will compute the integrals. Refer to [this](http://www.psicode.org/psi4manual/master/api/psi4.core.MintsHelper.html) for grossly incomplete documentation."
   ]
  },
  {
   "cell_type": "code",
   "execution_count": 3,
   "metadata": {
    "collapsed": false,
    "jupyter": {
     "outputs_hidden": false
    }
   },
   "outputs": [
    {
     "name": "stdout",
     "output_type": "stream",
     "text": [
      "8.801465564567374\n"
     ]
    }
   ],
   "source": [
    "molecule = psi4.geometry(Settings['molecule'])\n",
    "molecule.update_geometry()\n",
    "\n",
    "ndocc = Settings['nalpha']\n",
    "\n",
    "scf_max_iter = Settings['scf_max_iter']\n",
    "\n",
    "print(molecule.nuclear_repulsion_energy())\n",
    "\n",
    "basis = psi4.core.BasisSet.build(molecule, 'BASIS', Settings['basis'])\n",
    "\n",
    "mints = psi4.core.MintsHelper(basis)"
   ]
  },
  {
   "cell_type": "markdown",
   "metadata": {},
   "source": [
    "## Compute the needed integrals"
   ]
  },
  {
   "cell_type": "code",
   "execution_count": 4,
   "metadata": {
    "collapsed": false,
    "jupyter": {
     "outputs_hidden": false
    }
   },
   "outputs": [
    {
     "name": "stdout",
     "output_type": "stream",
     "text": [
      "(7, 7, 7, 7)\n"
     ]
    }
   ],
   "source": [
    "# Overlap\n",
    "S = mints.ao_overlap().np\n",
    "\n",
    "# Kinetic\n",
    "T = mints.ao_kinetic().np\n",
    "\n",
    "# Potential\n",
    "V = mints.ao_potential().np\n",
    "\n",
    "# Two-electron repulsion\n",
    "I = mints.ao_eri().np\n",
    "\n",
    "print(I.shape)"
   ]
  },
  {
   "cell_type": "markdown",
   "metadata": {},
   "source": [
    "## Form the one-electron Hamiltonian (H)\n",
    "\\begin{equation}\n",
    "H_{\\mu\\nu} = T_{\\mu\\nu} + V_{\\mu\\nu}\n",
    "\\end{equation}"
   ]
  },
  {
   "cell_type": "code",
   "execution_count": 5,
   "metadata": {
    "collapsed": false,
    "jupyter": {
     "outputs_hidden": false
    }
   },
   "outputs": [
    {
     "name": "stdout",
     "output_type": "stream",
     "text": [
      "[[-32.67360938  -7.60160704  -0.01741536   0.           0.          -1.57818038  -1.57818038]\n",
      " [ -7.60160704  -9.2914758   -0.20781331   0.          -0.          -3.47334591  -3.47334591]\n",
      " [ -0.01741536  -0.20781331  -7.50695983   0.           0.          -1.55452724  -1.55452724]\n",
      " [  0.           0.           0.          -7.42214005   0.           0.           0.        ]\n",
      " [  0.          -0.           0.           0.          -7.56362101   1.92474988  -1.92474988]\n",
      " [ -1.57818038  -3.47334591  -1.55452724   0.           1.92474988  -4.90357867  -1.42265626]\n",
      " [ -1.57818038  -3.47334591  -1.55452724   0.          -1.92474988  -1.42265626  -4.90357867]]\n"
     ]
    }
   ],
   "source": [
    "H = T + V\n",
    "\n",
    "print(H)"
   ]
  },
  {
   "cell_type": "markdown",
   "metadata": {},
   "source": [
    "## Construct the orthogonalizer $S^{-1/2}$\n",
    "The steps to complete this are:\n",
    "- Diagonalize the S matrix\n",
    "\\begin{align}\n",
    "& S L_S = L_S \\Lambda_S \\\\\n",
    "& L_S \\tilde L_S = L_S L_S^{-1} = 1\n",
    "\\end{align}\n",
    "- Form the $S^{-1/2}$ matrix\n",
    "\\begin{equation}\n",
    "S^{-1/2} = L_S \\Lambda_S^{-1/2} \\tilde L_S\n",
    "\\end{equation}\n",
    "\n",
    "Or use the <span style=\"font-variant: small-caps\">Psi4</span> function  ```power``` which does all of this for you."
   ]
  },
  {
   "cell_type": "code",
   "execution_count": 6,
   "metadata": {
    "collapsed": false,
    "jupyter": {
     "outputs_hidden": false
    }
   },
   "outputs": [
    {
     "name": "stdout",
     "output_type": "stream",
     "text": [
      "[[ 1.02403592 -0.14128825 -0.00938732  0.          0.          0.02117023  0.02117023]\n",
      " [-0.14128825  1.21591378  0.09833518  0.         -0.         -0.27163956 -0.27163956]\n",
      " [-0.00938732  0.09833518  1.04984867  0.         -0.         -0.1381764  -0.1381764 ]\n",
      " [ 0.          0.          0.          1.         -0.         -0.         -0.        ]\n",
      " [ 0.         -0.         -0.         -0.          1.10025748  0.2134062  -0.2134062 ]\n",
      " [ 0.02117023 -0.27163956 -0.1381764  -0.          0.2134062   1.1823526  -0.08078394]\n",
      " [ 0.02117023 -0.27163956 -0.1381764  -0.         -0.2134062  -0.08078394  1.1823526 ]]\n"
     ]
    }
   ],
   "source": [
    "A = mints.ao_overlap()\n",
    "A.power(-0.5, 1.e-16)\n",
    "A = A.np\n",
    "print(A)"
   ]
  },
  {
   "cell_type": "markdown",
   "metadata": {},
   "source": [
    "## Construct the initial density matrix\n",
    "In this sample, we will be using a core Hamiltonian guess.  Perform the following steps:\n",
    "\n",
    "- Form an initial (transformed) $F_0^\\tau$ matrix using the H matrix.\n",
    "\\begin{equation}\n",
    "F_0^\\tau = \\tilde{S}^{-1/2} H S^{-1/2}\n",
    "\\end{equation}\n",
    "- Diagonalize the $F_0^\\tau$ matrix using a standard eigenvalue routine.\n",
    "\\begin{equation}\n",
    "F_0^\\tau C_0^\\tau = C_0^\\tau \\epsilon\n",
    "\\end{equation}\n",
    "- Form the SCF eigenvector matrix\n",
    "\\begin{equation}\n",
    "C = S^{-1/2} C_0^\\tau\n",
    "\\end{equation}\n",
    "- Form the first density matrix (D) using the doubly occupied orbitals from the eigenvector matrix\n",
    "\\begin{equation}\n",
    "D_{\\mu\\nu} = \\sum_{m}^{\\mathrm{d.o.}} C_\\mu^m C_\\nu^m\n",
    "\\end{equation}"
   ]
  },
  {
   "cell_type": "code",
   "execution_count": 7,
   "metadata": {
    "collapsed": false,
    "jupyter": {
     "outputs_hidden": false
    }
   },
   "outputs": [
    {
     "name": "stdout",
     "output_type": "stream",
     "text": [
      "[[ 1.06661727 -0.29755998 -0.02536219  0.          0.          0.04007352  0.04007352]\n",
      " [-0.29755998  1.32589965  0.15348429  0.         -0.         -0.17684186 -0.17684186]\n",
      " [-0.02536219  0.15348429  1.08573619 -0.         -0.         -0.11682694 -0.11682694]\n",
      " [ 0.          0.         -0.          1.         -0.         -0.          0.        ]\n",
      " [ 0.         -0.         -0.         -0.          1.17091368  0.1776736  -0.1776736 ]\n",
      " [ 0.04007352 -0.17684186 -0.11682694 -0.          0.1776736   0.05924138  0.00532125]\n",
      " [ 0.04007352 -0.17684186 -0.11682694  0.         -0.1776736   0.00532125  0.05924138]]\n"
     ]
    }
   ],
   "source": [
    "Ft = A.dot(H).dot(A)\n",
    "_, C = np.linalg.eigh(Ft)\n",
    "C = A.dot(C)\n",
    "Cocc = C[:, :ndocc]\n",
    "D = np.einsum('pi,qi->pq', Cocc, Cocc)\n",
    "\n",
    "print(D)"
   ]
  },
  {
   "cell_type": "markdown",
   "metadata": {},
   "source": [
    "## SCF Iterations\n",
    "Within the SCF iteration we must perform the following steps.\n",
    "- Construct a new Fock matrix (F) include the two-electron repulsion integrals\n",
    "\\begin{equation}\n",
    "F_{\\mu\\nu} = H_{\\mu\\nu} + \\sum_{\\rho\\sigma}^{AO} D_{\\rho\\sigma} \\left[ 2 (\\mu\\nu \\mid \\rho\\sigma) - (\\mu\\rho \\mid \\nu\\sigma) \\right]\n",
    "\\end{equation}\n",
    "- Calculate this iteration's electronic and total energies\n",
    "\\begin{equation}\n",
    "E_{elec} = \\sum_{\\mu\\nu}^{AO} D_{\\mu\\nu} \\left( H_{\\mu\\nu} + F_{\\mu\\nu} \\right)\n",
    "\\end{equation}\n",
    "\\begin{equation}\n",
    "E_{total} = E_{elec} + E_{nuc}\n",
    "\\end{equation}\n",
    "- Transform the Fock matrix\n",
    "\\begin{equation}\n",
    "F^\\tau = \\tilde{S}^{-1/2} F S^{-1/2}\n",
    "\\end{equation}\n",
    "- Diagonalize the Fock matrix\n",
    "\\begin{equation}\n",
    "F^\\tau C^\\tau = C^\\tau \\epsilon\n",
    "\\end{equation}\n",
    "- Construct the new SCF eigenvector matrix\n",
    "\\begin{equation}\n",
    "C = S^{-1/2} C^\\tau\n",
    "\\end{equation}\n",
    "- Form the new density matrix\n",
    "\\begin{equation}\n",
    "D_{\\mu\\nu} = \\sum_{m}^{d.o.} C_\\mu^m C_\\nu^m\n",
    "\\end{equation}\n",
    "- Test convergency of the density matrix and energy\n",
    "\\begin{equation}\n",
    "rms = \\left[ \\sum_{\\mu\\nu}^{AO} \\left( D_{\\mu\\nu}^n - D_{\\mu\\nu}^{n-1} \\right)^2 \\right]^{1/2} < \\delta_1\n",
    "\\end{equation}\n",
    "\\begin{equation}\n",
    "\\Delta E = E_{SCF}^{n} - E_{SCF}^{n-1} < \\delta_2\n",
    "\\end{equation}"
   ]
  },
  {
   "cell_type": "code",
   "execution_count": 8,
   "metadata": {
    "collapsed": false,
    "jupyter": {
     "outputs_hidden": false
    }
   },
   "outputs": [
    {
     "name": "stdout",
     "output_type": "stream",
     "text": [
      "[[-18.85371222  -4.88435988  -0.01396825  -0.          -0.          -1.02412265  -1.02412265]\n",
      " [ -4.88435988  -1.86077282  -0.21349587  -0.           0.          -0.71030031  -0.71030031]\n",
      " [ -0.01396825  -0.21349587   0.1682888    0.           0.          -0.21769452  -0.21769452]\n",
      " [ -0.          -0.           0.           0.25498122   0.           0.          -0.        ]\n",
      " [ -0.           0.           0.           0.           0.10983997   0.19510018  -0.19510018]\n",
      " [ -1.02412265  -0.71030031  -0.21769452   0.           0.19510018  -0.21971495  -0.25918679]\n",
      " [ -1.02412265  -0.71030031  -0.21769452  -0.          -0.19510018  -0.25918679  -0.21971495]]\n"
     ]
    }
   ],
   "source": [
    "J = np.einsum('pqrs,rs->pq', I, D)\n",
    "K = np.einsum('prqs,rs->pq', I, D)\n",
    "F = H + J * 2 - K\n",
    "print(F)"
   ]
  },
  {
   "cell_type": "markdown",
   "metadata": {},
   "source": [
    "With my code the ouput is the following:\n",
    "\n",
    "    RHF iteration   1: energy   -73.25301168397348  dE -7.32530E+01\n",
    "    RHF iteration   2: energy   -74.93149651086453  dE -1.67848E+00\n",
    "    RHF iteration   3: energy   -74.96316771179171  dE -3.16712E-02\n",
    "    RHF iteration   4: energy   -74.96447365205802  dE -1.30594E-03\n",
    "    RHF iteration   5: energy   -74.96462787384583  dE -1.54222E-04\n",
    "    RHF iteration   6: energy   -74.96465575231846  dE -2.78785E-05\n",
    "    RHF iteration   7: energy   -74.96466118823379  dE -5.43592E-06\n",
    "    RHF iteration   8: energy   -74.96466226898241  dE -1.08075E-06\n",
    "    RHF iteration   9: energy   -74.96466248501822  dE -2.16036E-07\n",
    "    RHF iteration  10: energy   -74.96466252827092  dE -4.32527E-08\n",
    "    RHF iteration  11: energy   -74.96466253693451  dE -8.66359E-09\n",
    "    RHF iteration  12: energy   -74.96466253867011  dE -1.73560E-09\n",
    "    RHF iteration  13: energy   -74.96466253901779  dE -3.47683E-10\n",
    "    RHF iteration  14: energy   -74.96466253908747  dE -6.96758E-11\n",
    "\n",
    "## Test against <span style=\"font-variant: small-caps\">Psi4</span>"
   ]
  },
  {
   "cell_type": "code",
   "execution_count": 8,
   "metadata": {
    "collapsed": false,
    "jupyter": {
     "outputs_hidden": false
    }
   },
   "outputs": [
    {
     "data": {
      "text/plain": [
       "-74.96466253910498"
      ]
     },
     "execution_count": 8,
     "metadata": {},
     "output_type": "execute_result"
    }
   ],
   "source": [
    "# The energy that you obtain must match the energy that Psi4 produces (at least\n",
    "# to the extent that you converged the energy). If you do not match then check \n",
    "# your code for bugs!\n",
    "psi4.set_options({'basis': 'sto-3g',\n",
    "                  'scf_type': 'pk',\n",
    "                  'e_convergence': 1e-10,\n",
    "                 'reference': 'uhf'})\n",
    "psi4.energy('scf')"
   ]
  },
  {
   "cell_type": "code",
   "execution_count": null,
   "metadata": {},
   "outputs": [],
   "source": []
  }
 ],
 "metadata": {
  "anaconda-cloud": {},
  "kernelspec": {
   "display_name": "Python 3",
   "language": "python",
   "name": "python3"
  },
  "language_info": {
   "codemirror_mode": {
    "name": "ipython",
    "version": 3
   },
   "file_extension": ".py",
   "mimetype": "text/x-python",
   "name": "python",
   "nbconvert_exporter": "python",
   "pygments_lexer": "ipython3",
   "version": "3.7.6"
  }
 },
 "nbformat": 4,
 "nbformat_minor": 4
}
